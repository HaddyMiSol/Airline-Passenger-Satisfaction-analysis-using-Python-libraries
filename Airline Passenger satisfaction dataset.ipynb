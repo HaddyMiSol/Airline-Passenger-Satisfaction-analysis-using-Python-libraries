{
 "cells": [
  {
   "cell_type": "markdown",
   "metadata": {},
   "source": [
    "# Project Title - Airline Passenger Satisfaction\n",
    "\n",
    "Analyzing Airline Passengers' Satisfaction datasets using tools such as pandas for analysis, matplotlib and seaborn for visualization. Also, we use the opendataset library to download the dataset from an online repository (kaggle.com)"
   ]
  },
  {
   "cell_type": "markdown",
   "metadata": {},
   "source": [
    "#### Importing necessary libraries"
   ]
  },
  {
   "cell_type": "code",
   "execution_count": 1,
   "metadata": {},
   "outputs": [],
   "source": [
    "import pandas as pd\n",
    "import seaborn as sns\n",
    "import matplotlib\n",
    "import matplotlib.pyplot as plt\n",
    "%matplotlib inline\n",
    "\n",
    "sns.set_style('darkgrid')\n",
    "matplotlib.rcParams['font.size'] = 14\n",
    "matplotlib.rcParams['figure.figsize'] = (9, 5)\n",
    "matplotlib.rcParams['figure.facecolor'] = '#00000000'\n",
    "\n",
    "import warnings\n",
    "warnings.filterwarnings(\"ignore\")"
   ]
  },
  {
   "cell_type": "markdown",
   "metadata": {},
   "source": [
    "### Downloading the Dataset"
   ]
  },
  {
   "cell_type": "code",
   "execution_count": 2,
   "metadata": {},
   "outputs": [],
   "source": [
    "!pip install jovian opendatasets --upgrade --quiet"
   ]
  },
  {
   "cell_type": "markdown",
   "metadata": {},
   "source": [
    "Let's begin by downloading the data, and listing the files within the dataset."
   ]
  },
  {
   "cell_type": "code",
   "execution_count": 12,
   "metadata": {},
   "outputs": [],
   "source": [
    "dataset_url = 'https://www.kaggle.com/datasets/mysarahmadbhat/airline-passenger-satisfaction' "
   ]
  },
  {
   "cell_type": "code",
   "execution_count": 13,
   "metadata": {},
   "outputs": [
    {
     "name": "stdout",
     "output_type": "stream",
     "text": [
      "Downloading airline-passenger-satisfaction.zip to .\\airline-passenger-satisfaction\n"
     ]
    },
    {
     "name": "stderr",
     "output_type": "stream",
     "text": [
      "100%|██████████████████████████████████████████████████████████████████████████████| 2.03M/2.03M [00:05<00:00, 414kB/s]\n"
     ]
    },
    {
     "name": "stdout",
     "output_type": "stream",
     "text": [
      "\n"
     ]
    }
   ],
   "source": [
    "import opendatasets as od\n",
    "od.download(dataset_url)"
   ]
  },
  {
   "cell_type": "markdown",
   "metadata": {},
   "source": [
    "The dataset has been downloaded and extracted."
   ]
  },
  {
   "cell_type": "code",
   "execution_count": 14,
   "metadata": {},
   "outputs": [],
   "source": [
    "\n",
    "data_dir = './airline-passenger-satisfaction'"
   ]
  },
  {
   "cell_type": "code",
   "execution_count": 15,
   "metadata": {},
   "outputs": [
    {
     "data": {
      "text/plain": [
       "['airline_passenger_satisfaction.csv', 'data_dictionary.csv']"
      ]
     },
     "execution_count": 15,
     "metadata": {},
     "output_type": "execute_result"
    }
   ],
   "source": [
    "import os\n",
    "os.listdir(data_dir)"
   ]
  },
  {
   "cell_type": "markdown",
   "metadata": {},
   "source": [
    "## Data Preparation and Cleaning\n",
    "\n",
    "\n",
    "\n"
   ]
  },
  {
   "cell_type": "code",
   "execution_count": 16,
   "metadata": {
    "scrolled": true
   },
   "outputs": [
    {
     "data": {
      "text/html": [
       "<div>\n",
       "<style scoped>\n",
       "    .dataframe tbody tr th:only-of-type {\n",
       "        vertical-align: middle;\n",
       "    }\n",
       "\n",
       "    .dataframe tbody tr th {\n",
       "        vertical-align: top;\n",
       "    }\n",
       "\n",
       "    .dataframe thead th {\n",
       "        text-align: right;\n",
       "    }\n",
       "</style>\n",
       "<table border=\"1\" class=\"dataframe\">\n",
       "  <thead>\n",
       "    <tr style=\"text-align: right;\">\n",
       "      <th></th>\n",
       "      <th>ID</th>\n",
       "      <th>Gender</th>\n",
       "      <th>Age</th>\n",
       "      <th>Customer Type</th>\n",
       "      <th>Type of Travel</th>\n",
       "      <th>Class</th>\n",
       "      <th>Flight Distance</th>\n",
       "      <th>Departure Delay</th>\n",
       "      <th>Arrival Delay</th>\n",
       "      <th>Departure and Arrival Time Convenience</th>\n",
       "      <th>...</th>\n",
       "      <th>On-board Service</th>\n",
       "      <th>Seat Comfort</th>\n",
       "      <th>Leg Room Service</th>\n",
       "      <th>Cleanliness</th>\n",
       "      <th>Food and Drink</th>\n",
       "      <th>In-flight Service</th>\n",
       "      <th>In-flight Wifi Service</th>\n",
       "      <th>In-flight Entertainment</th>\n",
       "      <th>Baggage Handling</th>\n",
       "      <th>Satisfaction</th>\n",
       "    </tr>\n",
       "  </thead>\n",
       "  <tbody>\n",
       "    <tr>\n",
       "      <th>0</th>\n",
       "      <td>1</td>\n",
       "      <td>Male</td>\n",
       "      <td>48</td>\n",
       "      <td>First-time</td>\n",
       "      <td>Business</td>\n",
       "      <td>Business</td>\n",
       "      <td>821</td>\n",
       "      <td>2</td>\n",
       "      <td>5.0</td>\n",
       "      <td>3</td>\n",
       "      <td>...</td>\n",
       "      <td>3</td>\n",
       "      <td>5</td>\n",
       "      <td>2</td>\n",
       "      <td>5</td>\n",
       "      <td>5</td>\n",
       "      <td>5</td>\n",
       "      <td>3</td>\n",
       "      <td>5</td>\n",
       "      <td>5</td>\n",
       "      <td>Neutral or Dissatisfied</td>\n",
       "    </tr>\n",
       "    <tr>\n",
       "      <th>1</th>\n",
       "      <td>2</td>\n",
       "      <td>Female</td>\n",
       "      <td>35</td>\n",
       "      <td>Returning</td>\n",
       "      <td>Business</td>\n",
       "      <td>Business</td>\n",
       "      <td>821</td>\n",
       "      <td>26</td>\n",
       "      <td>39.0</td>\n",
       "      <td>2</td>\n",
       "      <td>...</td>\n",
       "      <td>5</td>\n",
       "      <td>4</td>\n",
       "      <td>5</td>\n",
       "      <td>5</td>\n",
       "      <td>3</td>\n",
       "      <td>5</td>\n",
       "      <td>2</td>\n",
       "      <td>5</td>\n",
       "      <td>5</td>\n",
       "      <td>Satisfied</td>\n",
       "    </tr>\n",
       "    <tr>\n",
       "      <th>2</th>\n",
       "      <td>3</td>\n",
       "      <td>Male</td>\n",
       "      <td>41</td>\n",
       "      <td>Returning</td>\n",
       "      <td>Business</td>\n",
       "      <td>Business</td>\n",
       "      <td>853</td>\n",
       "      <td>0</td>\n",
       "      <td>0.0</td>\n",
       "      <td>4</td>\n",
       "      <td>...</td>\n",
       "      <td>3</td>\n",
       "      <td>5</td>\n",
       "      <td>3</td>\n",
       "      <td>5</td>\n",
       "      <td>5</td>\n",
       "      <td>3</td>\n",
       "      <td>4</td>\n",
       "      <td>3</td>\n",
       "      <td>3</td>\n",
       "      <td>Satisfied</td>\n",
       "    </tr>\n",
       "    <tr>\n",
       "      <th>3</th>\n",
       "      <td>4</td>\n",
       "      <td>Male</td>\n",
       "      <td>50</td>\n",
       "      <td>Returning</td>\n",
       "      <td>Business</td>\n",
       "      <td>Business</td>\n",
       "      <td>1905</td>\n",
       "      <td>0</td>\n",
       "      <td>0.0</td>\n",
       "      <td>2</td>\n",
       "      <td>...</td>\n",
       "      <td>5</td>\n",
       "      <td>5</td>\n",
       "      <td>5</td>\n",
       "      <td>4</td>\n",
       "      <td>4</td>\n",
       "      <td>5</td>\n",
       "      <td>2</td>\n",
       "      <td>5</td>\n",
       "      <td>5</td>\n",
       "      <td>Satisfied</td>\n",
       "    </tr>\n",
       "    <tr>\n",
       "      <th>4</th>\n",
       "      <td>5</td>\n",
       "      <td>Female</td>\n",
       "      <td>49</td>\n",
       "      <td>Returning</td>\n",
       "      <td>Business</td>\n",
       "      <td>Business</td>\n",
       "      <td>3470</td>\n",
       "      <td>0</td>\n",
       "      <td>1.0</td>\n",
       "      <td>3</td>\n",
       "      <td>...</td>\n",
       "      <td>3</td>\n",
       "      <td>4</td>\n",
       "      <td>4</td>\n",
       "      <td>5</td>\n",
       "      <td>4</td>\n",
       "      <td>3</td>\n",
       "      <td>3</td>\n",
       "      <td>3</td>\n",
       "      <td>3</td>\n",
       "      <td>Satisfied</td>\n",
       "    </tr>\n",
       "    <tr>\n",
       "      <th>...</th>\n",
       "      <td>...</td>\n",
       "      <td>...</td>\n",
       "      <td>...</td>\n",
       "      <td>...</td>\n",
       "      <td>...</td>\n",
       "      <td>...</td>\n",
       "      <td>...</td>\n",
       "      <td>...</td>\n",
       "      <td>...</td>\n",
       "      <td>...</td>\n",
       "      <td>...</td>\n",
       "      <td>...</td>\n",
       "      <td>...</td>\n",
       "      <td>...</td>\n",
       "      <td>...</td>\n",
       "      <td>...</td>\n",
       "      <td>...</td>\n",
       "      <td>...</td>\n",
       "      <td>...</td>\n",
       "      <td>...</td>\n",
       "      <td>...</td>\n",
       "    </tr>\n",
       "    <tr>\n",
       "      <th>129875</th>\n",
       "      <td>129876</td>\n",
       "      <td>Male</td>\n",
       "      <td>28</td>\n",
       "      <td>Returning</td>\n",
       "      <td>Personal</td>\n",
       "      <td>Economy Plus</td>\n",
       "      <td>447</td>\n",
       "      <td>2</td>\n",
       "      <td>3.0</td>\n",
       "      <td>4</td>\n",
       "      <td>...</td>\n",
       "      <td>5</td>\n",
       "      <td>1</td>\n",
       "      <td>4</td>\n",
       "      <td>4</td>\n",
       "      <td>4</td>\n",
       "      <td>5</td>\n",
       "      <td>4</td>\n",
       "      <td>4</td>\n",
       "      <td>4</td>\n",
       "      <td>Neutral or Dissatisfied</td>\n",
       "    </tr>\n",
       "    <tr>\n",
       "      <th>129876</th>\n",
       "      <td>129877</td>\n",
       "      <td>Male</td>\n",
       "      <td>41</td>\n",
       "      <td>Returning</td>\n",
       "      <td>Personal</td>\n",
       "      <td>Economy Plus</td>\n",
       "      <td>308</td>\n",
       "      <td>0</td>\n",
       "      <td>0.0</td>\n",
       "      <td>5</td>\n",
       "      <td>...</td>\n",
       "      <td>5</td>\n",
       "      <td>2</td>\n",
       "      <td>5</td>\n",
       "      <td>2</td>\n",
       "      <td>2</td>\n",
       "      <td>4</td>\n",
       "      <td>3</td>\n",
       "      <td>2</td>\n",
       "      <td>5</td>\n",
       "      <td>Neutral or Dissatisfied</td>\n",
       "    </tr>\n",
       "    <tr>\n",
       "      <th>129877</th>\n",
       "      <td>129878</td>\n",
       "      <td>Male</td>\n",
       "      <td>42</td>\n",
       "      <td>Returning</td>\n",
       "      <td>Personal</td>\n",
       "      <td>Economy Plus</td>\n",
       "      <td>337</td>\n",
       "      <td>6</td>\n",
       "      <td>14.0</td>\n",
       "      <td>5</td>\n",
       "      <td>...</td>\n",
       "      <td>3</td>\n",
       "      <td>3</td>\n",
       "      <td>4</td>\n",
       "      <td>3</td>\n",
       "      <td>3</td>\n",
       "      <td>4</td>\n",
       "      <td>2</td>\n",
       "      <td>3</td>\n",
       "      <td>5</td>\n",
       "      <td>Neutral or Dissatisfied</td>\n",
       "    </tr>\n",
       "    <tr>\n",
       "      <th>129878</th>\n",
       "      <td>129879</td>\n",
       "      <td>Male</td>\n",
       "      <td>50</td>\n",
       "      <td>Returning</td>\n",
       "      <td>Personal</td>\n",
       "      <td>Economy Plus</td>\n",
       "      <td>337</td>\n",
       "      <td>31</td>\n",
       "      <td>22.0</td>\n",
       "      <td>4</td>\n",
       "      <td>...</td>\n",
       "      <td>4</td>\n",
       "      <td>4</td>\n",
       "      <td>5</td>\n",
       "      <td>3</td>\n",
       "      <td>3</td>\n",
       "      <td>4</td>\n",
       "      <td>5</td>\n",
       "      <td>3</td>\n",
       "      <td>5</td>\n",
       "      <td>Satisfied</td>\n",
       "    </tr>\n",
       "    <tr>\n",
       "      <th>129879</th>\n",
       "      <td>129880</td>\n",
       "      <td>Female</td>\n",
       "      <td>20</td>\n",
       "      <td>Returning</td>\n",
       "      <td>Personal</td>\n",
       "      <td>Economy Plus</td>\n",
       "      <td>337</td>\n",
       "      <td>0</td>\n",
       "      <td>0.0</td>\n",
       "      <td>1</td>\n",
       "      <td>...</td>\n",
       "      <td>4</td>\n",
       "      <td>2</td>\n",
       "      <td>4</td>\n",
       "      <td>2</td>\n",
       "      <td>2</td>\n",
       "      <td>2</td>\n",
       "      <td>3</td>\n",
       "      <td>2</td>\n",
       "      <td>1</td>\n",
       "      <td>Neutral or Dissatisfied</td>\n",
       "    </tr>\n",
       "  </tbody>\n",
       "</table>\n",
       "<p>129880 rows × 24 columns</p>\n",
       "</div>"
      ],
      "text/plain": [
       "            ID  Gender  Age Customer Type Type of Travel         Class  \\\n",
       "0            1    Male   48    First-time       Business      Business   \n",
       "1            2  Female   35     Returning       Business      Business   \n",
       "2            3    Male   41     Returning       Business      Business   \n",
       "3            4    Male   50     Returning       Business      Business   \n",
       "4            5  Female   49     Returning       Business      Business   \n",
       "...        ...     ...  ...           ...            ...           ...   \n",
       "129875  129876    Male   28     Returning       Personal  Economy Plus   \n",
       "129876  129877    Male   41     Returning       Personal  Economy Plus   \n",
       "129877  129878    Male   42     Returning       Personal  Economy Plus   \n",
       "129878  129879    Male   50     Returning       Personal  Economy Plus   \n",
       "129879  129880  Female   20     Returning       Personal  Economy Plus   \n",
       "\n",
       "        Flight Distance  Departure Delay  Arrival Delay  \\\n",
       "0                   821                2            5.0   \n",
       "1                   821               26           39.0   \n",
       "2                   853                0            0.0   \n",
       "3                  1905                0            0.0   \n",
       "4                  3470                0            1.0   \n",
       "...                 ...              ...            ...   \n",
       "129875              447                2            3.0   \n",
       "129876              308                0            0.0   \n",
       "129877              337                6           14.0   \n",
       "129878              337               31           22.0   \n",
       "129879              337                0            0.0   \n",
       "\n",
       "        Departure and Arrival Time Convenience  ...  On-board Service  \\\n",
       "0                                            3  ...                 3   \n",
       "1                                            2  ...                 5   \n",
       "2                                            4  ...                 3   \n",
       "3                                            2  ...                 5   \n",
       "4                                            3  ...                 3   \n",
       "...                                        ...  ...               ...   \n",
       "129875                                       4  ...                 5   \n",
       "129876                                       5  ...                 5   \n",
       "129877                                       5  ...                 3   \n",
       "129878                                       4  ...                 4   \n",
       "129879                                       1  ...                 4   \n",
       "\n",
       "        Seat Comfort  Leg Room Service  Cleanliness  Food and Drink  \\\n",
       "0                  5                 2            5               5   \n",
       "1                  4                 5            5               3   \n",
       "2                  5                 3            5               5   \n",
       "3                  5                 5            4               4   \n",
       "4                  4                 4            5               4   \n",
       "...              ...               ...          ...             ...   \n",
       "129875             1                 4            4               4   \n",
       "129876             2                 5            2               2   \n",
       "129877             3                 4            3               3   \n",
       "129878             4                 5            3               3   \n",
       "129879             2                 4            2               2   \n",
       "\n",
       "        In-flight Service  In-flight Wifi Service  In-flight Entertainment  \\\n",
       "0                       5                       3                        5   \n",
       "1                       5                       2                        5   \n",
       "2                       3                       4                        3   \n",
       "3                       5                       2                        5   \n",
       "4                       3                       3                        3   \n",
       "...                   ...                     ...                      ...   \n",
       "129875                  5                       4                        4   \n",
       "129876                  4                       3                        2   \n",
       "129877                  4                       2                        3   \n",
       "129878                  4                       5                        3   \n",
       "129879                  2                       3                        2   \n",
       "\n",
       "        Baggage Handling             Satisfaction  \n",
       "0                      5  Neutral or Dissatisfied  \n",
       "1                      5                Satisfied  \n",
       "2                      3                Satisfied  \n",
       "3                      5                Satisfied  \n",
       "4                      3                Satisfied  \n",
       "...                  ...                      ...  \n",
       "129875                 4  Neutral or Dissatisfied  \n",
       "129876                 5  Neutral or Dissatisfied  \n",
       "129877                 5  Neutral or Dissatisfied  \n",
       "129878                 5                Satisfied  \n",
       "129879                 1  Neutral or Dissatisfied  \n",
       "\n",
       "[129880 rows x 24 columns]"
      ]
     },
     "execution_count": 16,
     "metadata": {},
     "output_type": "execute_result"
    }
   ],
   "source": [
    "flight_df= pd.read_csv('airline-passenger-satisfaction/airline_passenger_satisfaction.csv')\n",
    "flight_df"
   ]
  },
  {
   "cell_type": "code",
   "execution_count": 17,
   "metadata": {},
   "outputs": [
    {
     "data": {
      "text/plain": [
       "array(['Male', 'Female'], dtype=object)"
      ]
     },
     "execution_count": 17,
     "metadata": {},
     "output_type": "execute_result"
    }
   ],
   "source": [
    "flight_df['Gender'].unique()"
   ]
  },
  {
   "cell_type": "code",
   "execution_count": 18,
   "metadata": {},
   "outputs": [
    {
     "name": "stdout",
     "output_type": "stream",
     "text": [
      "<class 'pandas.core.frame.DataFrame'>\n",
      "RangeIndex: 129880 entries, 0 to 129879\n",
      "Data columns (total 24 columns):\n",
      " #   Column                                  Non-Null Count   Dtype  \n",
      "---  ------                                  --------------   -----  \n",
      " 0   ID                                      129880 non-null  int64  \n",
      " 1   Gender                                  129880 non-null  object \n",
      " 2   Age                                     129880 non-null  int64  \n",
      " 3   Customer Type                           129880 non-null  object \n",
      " 4   Type of Travel                          129880 non-null  object \n",
      " 5   Class                                   129880 non-null  object \n",
      " 6   Flight Distance                         129880 non-null  int64  \n",
      " 7   Departure Delay                         129880 non-null  int64  \n",
      " 8   Arrival Delay                           129487 non-null  float64\n",
      " 9   Departure and Arrival Time Convenience  129880 non-null  int64  \n",
      " 10  Ease of Online Booking                  129880 non-null  int64  \n",
      " 11  Check-in Service                        129880 non-null  int64  \n",
      " 12  Online Boarding                         129880 non-null  int64  \n",
      " 13  Gate Location                           129880 non-null  int64  \n",
      " 14  On-board Service                        129880 non-null  int64  \n",
      " 15  Seat Comfort                            129880 non-null  int64  \n",
      " 16  Leg Room Service                        129880 non-null  int64  \n",
      " 17  Cleanliness                             129880 non-null  int64  \n",
      " 18  Food and Drink                          129880 non-null  int64  \n",
      " 19  In-flight Service                       129880 non-null  int64  \n",
      " 20  In-flight Wifi Service                  129880 non-null  int64  \n",
      " 21  In-flight Entertainment                 129880 non-null  int64  \n",
      " 22  Baggage Handling                        129880 non-null  int64  \n",
      " 23  Satisfaction                            129880 non-null  object \n",
      "dtypes: float64(1), int64(18), object(5)\n",
      "memory usage: 23.8+ MB\n"
     ]
    }
   ],
   "source": [
    "flight_df.info()"
   ]
  },
  {
   "cell_type": "code",
   "execution_count": 19,
   "metadata": {},
   "outputs": [
    {
     "data": {
      "text/html": [
       "<div>\n",
       "<style scoped>\n",
       "    .dataframe tbody tr th:only-of-type {\n",
       "        vertical-align: middle;\n",
       "    }\n",
       "\n",
       "    .dataframe tbody tr th {\n",
       "        vertical-align: top;\n",
       "    }\n",
       "\n",
       "    .dataframe thead th {\n",
       "        text-align: right;\n",
       "    }\n",
       "</style>\n",
       "<table border=\"1\" class=\"dataframe\">\n",
       "  <thead>\n",
       "    <tr style=\"text-align: right;\">\n",
       "      <th></th>\n",
       "      <th>Description</th>\n",
       "    </tr>\n",
       "    <tr>\n",
       "      <th>Field</th>\n",
       "      <th></th>\n",
       "    </tr>\n",
       "  </thead>\n",
       "  <tbody>\n",
       "    <tr>\n",
       "      <th>ID</th>\n",
       "      <td>Unique passenger identifier</td>\n",
       "    </tr>\n",
       "    <tr>\n",
       "      <th>Gender</th>\n",
       "      <td>Gender of the passenger (Female/Male)</td>\n",
       "    </tr>\n",
       "    <tr>\n",
       "      <th>Age</th>\n",
       "      <td>Age of the passenger</td>\n",
       "    </tr>\n",
       "    <tr>\n",
       "      <th>Customer Type</th>\n",
       "      <td>Type of airline customer (First-time/Returning)</td>\n",
       "    </tr>\n",
       "    <tr>\n",
       "      <th>Type of Travel</th>\n",
       "      <td>Purpose of the flight (Business/Personal)</td>\n",
       "    </tr>\n",
       "    <tr>\n",
       "      <th>Class</th>\n",
       "      <td>Travel class in the airplane for the passenger...</td>\n",
       "    </tr>\n",
       "    <tr>\n",
       "      <th>Flight Distance</th>\n",
       "      <td>Flight distance in miles</td>\n",
       "    </tr>\n",
       "    <tr>\n",
       "      <th>Departure Delay</th>\n",
       "      <td>Flight departure delay in minutes</td>\n",
       "    </tr>\n",
       "    <tr>\n",
       "      <th>Arrival Delay</th>\n",
       "      <td>Flight arrival delay in minutes</td>\n",
       "    </tr>\n",
       "    <tr>\n",
       "      <th>Departure and Arrival Time Convenience</th>\n",
       "      <td>Satisfaction level with the convenience of the...</td>\n",
       "    </tr>\n",
       "    <tr>\n",
       "      <th>Ease of Online Booking</th>\n",
       "      <td>Satisfaction level with the online booking exp...</td>\n",
       "    </tr>\n",
       "    <tr>\n",
       "      <th>Check-in Service</th>\n",
       "      <td>Satisfaction level with the check-in service f...</td>\n",
       "    </tr>\n",
       "    <tr>\n",
       "      <th>Online Boarding</th>\n",
       "      <td>Satisfaction level with the online boarding ex...</td>\n",
       "    </tr>\n",
       "    <tr>\n",
       "      <th>Gate Location</th>\n",
       "      <td>Satisfaction level with the gate location in t...</td>\n",
       "    </tr>\n",
       "    <tr>\n",
       "      <th>On-board Service</th>\n",
       "      <td>Satisfaction level with the on-boarding servic...</td>\n",
       "    </tr>\n",
       "    <tr>\n",
       "      <th>Seat Comfort</th>\n",
       "      <td>Satisfaction level with the comfort of the air...</td>\n",
       "    </tr>\n",
       "    <tr>\n",
       "      <th>Leg Room Service</th>\n",
       "      <td>Satisfaction level with the leg room of the ai...</td>\n",
       "    </tr>\n",
       "    <tr>\n",
       "      <th>Cleanliness</th>\n",
       "      <td>Satisfaction level with the cleanliness of the...</td>\n",
       "    </tr>\n",
       "    <tr>\n",
       "      <th>Food and Drink</th>\n",
       "      <td>Satisfaction level with the food and drinks on...</td>\n",
       "    </tr>\n",
       "    <tr>\n",
       "      <th>In-flight Service</th>\n",
       "      <td>Satisfaction level with the in-flight service ...</td>\n",
       "    </tr>\n",
       "    <tr>\n",
       "      <th>In-flight Wifi Service</th>\n",
       "      <td>Satisfaction level with the in-flight Wifi ser...</td>\n",
       "    </tr>\n",
       "    <tr>\n",
       "      <th>In-flight Entertainment</th>\n",
       "      <td>Satisfaction level with the in-flight entertai...</td>\n",
       "    </tr>\n",
       "    <tr>\n",
       "      <th>Baggage Handling</th>\n",
       "      <td>Satisfaction level with the baggage handling f...</td>\n",
       "    </tr>\n",
       "    <tr>\n",
       "      <th>Satisfaction</th>\n",
       "      <td>Overall satisfaction level with the airline (S...</td>\n",
       "    </tr>\n",
       "  </tbody>\n",
       "</table>\n",
       "</div>"
      ],
      "text/plain": [
       "                                                                              Description\n",
       "Field                                                                                    \n",
       "ID                                                            Unique passenger identifier\n",
       "Gender                                              Gender of the passenger (Female/Male)\n",
       "Age                                                                  Age of the passenger\n",
       "Customer Type                             Type of airline customer (First-time/Returning)\n",
       "Type of Travel                                  Purpose of the flight (Business/Personal)\n",
       "Class                                   Travel class in the airplane for the passenger...\n",
       "Flight Distance                                                  Flight distance in miles\n",
       "Departure Delay                                         Flight departure delay in minutes\n",
       "Arrival Delay                                             Flight arrival delay in minutes\n",
       "Departure and Arrival Time Convenience  Satisfaction level with the convenience of the...\n",
       "Ease of Online Booking                  Satisfaction level with the online booking exp...\n",
       "Check-in Service                        Satisfaction level with the check-in service f...\n",
       "Online Boarding                         Satisfaction level with the online boarding ex...\n",
       "Gate Location                           Satisfaction level with the gate location in t...\n",
       "On-board Service                        Satisfaction level with the on-boarding servic...\n",
       "Seat Comfort                            Satisfaction level with the comfort of the air...\n",
       "Leg Room Service                        Satisfaction level with the leg room of the ai...\n",
       "Cleanliness                             Satisfaction level with the cleanliness of the...\n",
       "Food and Drink                          Satisfaction level with the food and drinks on...\n",
       "In-flight Service                       Satisfaction level with the in-flight service ...\n",
       "In-flight Wifi Service                  Satisfaction level with the in-flight Wifi ser...\n",
       "In-flight Entertainment                 Satisfaction level with the in-flight entertai...\n",
       "Baggage Handling                        Satisfaction level with the baggage handling f...\n",
       "Satisfaction                            Overall satisfaction level with the airline (S..."
      ]
     },
     "execution_count": 19,
     "metadata": {},
     "output_type": "execute_result"
    }
   ],
   "source": [
    "flight_raw = 'airline-passenger-satisfaction/data_dictionary.csv'\n",
    "flight_dict = pd.read_csv(flight_raw, index_col='Field')#.Description\n",
    "flight_dict"
   ]
  },
  {
   "cell_type": "markdown",
   "metadata": {},
   "source": [
    "###### CUSTOMER TYPE SATISFACTION"
   ]
  },
  {
   "cell_type": "code",
   "execution_count": 20,
   "metadata": {},
   "outputs": [
    {
     "data": {
      "text/plain": [
       "Returning     106100\n",
       "First-time     23780\n",
       "Name: Customer Type, dtype: int64"
      ]
     },
     "execution_count": 20,
     "metadata": {},
     "output_type": "execute_result"
    }
   ],
   "source": [
    "#How many customer were first time and returning\n",
    "cust_type= flight_df['Customer Type'].value_counts()\n",
    "cust_type"
   ]
  },
  {
   "cell_type": "code",
   "execution_count": 21,
   "metadata": {},
   "outputs": [
    {
     "data": {
      "text/plain": [
       "Returning     50728\n",
       "First-time     5700\n",
       "Name: Customer Type, dtype: int64"
      ]
     },
     "execution_count": 21,
     "metadata": {},
     "output_type": "execute_result"
    }
   ],
   "source": [
    "#Satisfied customer by customer type\n",
    "graph = flight_df[flight_df['Satisfaction']=='Satisfied']['Customer Type'].value_counts()\n",
    "graph"
   ]
  },
  {
   "cell_type": "code",
   "execution_count": 22,
   "metadata": {},
   "outputs": [
    {
     "data": {
      "text/html": [
       "<div>\n",
       "<style scoped>\n",
       "    .dataframe tbody tr th:only-of-type {\n",
       "        vertical-align: middle;\n",
       "    }\n",
       "\n",
       "    .dataframe tbody tr th {\n",
       "        vertical-align: top;\n",
       "    }\n",
       "\n",
       "    .dataframe thead th {\n",
       "        text-align: right;\n",
       "    }\n",
       "</style>\n",
       "<table border=\"1\" class=\"dataframe\">\n",
       "  <thead>\n",
       "    <tr style=\"text-align: right;\">\n",
       "      <th></th>\n",
       "      <th>Satisfaction</th>\n",
       "    </tr>\n",
       "    <tr>\n",
       "      <th>Customer Type</th>\n",
       "      <th></th>\n",
       "    </tr>\n",
       "  </thead>\n",
       "  <tbody>\n",
       "    <tr>\n",
       "      <th>First-time</th>\n",
       "      <td>10.0</td>\n",
       "    </tr>\n",
       "    <tr>\n",
       "      <th>Returning</th>\n",
       "      <td>90.0</td>\n",
       "    </tr>\n",
       "  </tbody>\n",
       "</table>\n",
       "</div>"
      ],
      "text/plain": [
       "               Satisfaction\n",
       "Customer Type              \n",
       "First-time             10.0\n",
       "Returning              90.0"
      ]
     },
     "execution_count": 22,
     "metadata": {},
     "output_type": "execute_result"
    }
   ],
   "source": [
    "#% satisfied by customer type; out of those satisfied, how many of them are either returning or first time\n",
    "satisfied = flight_df[flight_df['Satisfaction']=='Satisfied']\n",
    "graph1 = satisfied[['Satisfaction','Customer Type']]\n",
    "graph1= round(100*graph1.groupby('Customer Type').count()/graph1.shape[0])#.reset_index()\n",
    "graph1"
   ]
  },
  {
   "cell_type": "code",
   "execution_count": 23,
   "metadata": {},
   "outputs": [
    {
     "data": {
      "text/plain": [
       "Returning     55372\n",
       "First-time    18080\n",
       "Name: Customer Type, dtype: int64"
      ]
     },
     "execution_count": 23,
     "metadata": {},
     "output_type": "execute_result"
    }
   ],
   "source": [
    "#Satisfied customer by customer type\n",
    "graph2 = flight_df[flight_df['Satisfaction']=='Neutral or Dissatisfied']['Customer Type'].value_counts()\n",
    "graph2"
   ]
  },
  {
   "cell_type": "code",
   "execution_count": 24,
   "metadata": {},
   "outputs": [
    {
     "data": {
      "text/html": [
       "<div>\n",
       "<style scoped>\n",
       "    .dataframe tbody tr th:only-of-type {\n",
       "        vertical-align: middle;\n",
       "    }\n",
       "\n",
       "    .dataframe tbody tr th {\n",
       "        vertical-align: top;\n",
       "    }\n",
       "\n",
       "    .dataframe thead th {\n",
       "        text-align: right;\n",
       "    }\n",
       "</style>\n",
       "<table border=\"1\" class=\"dataframe\">\n",
       "  <thead>\n",
       "    <tr style=\"text-align: right;\">\n",
       "      <th></th>\n",
       "      <th>Satisfaction</th>\n",
       "    </tr>\n",
       "    <tr>\n",
       "      <th>Customer Type</th>\n",
       "      <th></th>\n",
       "    </tr>\n",
       "  </thead>\n",
       "  <tbody>\n",
       "    <tr>\n",
       "      <th>First-time</th>\n",
       "      <td>25.0</td>\n",
       "    </tr>\n",
       "    <tr>\n",
       "      <th>Returning</th>\n",
       "      <td>75.0</td>\n",
       "    </tr>\n",
       "  </tbody>\n",
       "</table>\n",
       "</div>"
      ],
      "text/plain": [
       "               Satisfaction\n",
       "Customer Type              \n",
       "First-time             25.0\n",
       "Returning              75.0"
      ]
     },
     "execution_count": 24,
     "metadata": {},
     "output_type": "execute_result"
    }
   ],
   "source": [
    "#% dissatisfied by customer type; out of those not satisfied, how many of them are either returning or first time\n",
    "dissatisfied = flight_df[flight_df['Satisfaction']=='Neutral or Dissatisfied']\n",
    "graph3 = dissatisfied[['Satisfaction','Customer Type']]\n",
    "graph3= round(100*graph3.groupby('Customer Type').count()/graph3.shape[0])#.reset_index()\n",
    "graph3"
   ]
  },
  {
   "cell_type": "markdown",
   "metadata": {},
   "source": [
    "###### FLIGHT BY TRAVEL TYPE"
   ]
  },
  {
   "cell_type": "code",
   "execution_count": 25,
   "metadata": {},
   "outputs": [
    {
     "data": {
      "text/plain": [
       "Business    89693\n",
       "Personal    40187\n",
       "Name: Type of Travel, dtype: int64"
      ]
     },
     "execution_count": 25,
     "metadata": {},
     "output_type": "execute_result"
    }
   ],
   "source": [
    "#How many customer type of travel was either business or personal\n",
    "purpose_type= flight_df['Type of Travel'].value_counts()\n",
    "purpose_type"
   ]
  },
  {
   "cell_type": "markdown",
   "metadata": {},
   "source": [
    "###### FLIGHT BY CLASS"
   ]
  },
  {
   "cell_type": "code",
   "execution_count": 26,
   "metadata": {},
   "outputs": [
    {
     "data": {
      "text/plain": [
       "Business        62160\n",
       "Economy         58309\n",
       "Economy Plus     9411\n",
       "Name: Class, dtype: int64"
      ]
     },
     "execution_count": 26,
     "metadata": {},
     "output_type": "execute_result"
    }
   ],
   "source": [
    "#Disaggregate flights by class\n",
    "class_type= flight_df['Class'].value_counts()\n",
    "class_type"
   ]
  },
  {
   "cell_type": "markdown",
   "metadata": {},
   "source": [
    "#### DELAY AT DEPARTURE AND ARRIVAL"
   ]
  },
  {
   "cell_type": "code",
   "execution_count": 27,
   "metadata": {
    "scrolled": true
   },
   "outputs": [
    {
     "data": {
      "text/plain": [
       "18098"
      ]
     },
     "execution_count": 27,
     "metadata": {},
     "output_type": "execute_result"
    }
   ],
   "source": [
    "#How many customers were delayed at departure for more than 30 minutes\n",
    "Dept_delay = flight_df[flight_df['Departure Delay']>30]\n",
    "#Dept_delay>30\n",
    "total_deptdelay= Dept_delay['Departure Delay'].count()\n",
    "total_deptdelay"
   ]
  },
  {
   "cell_type": "code",
   "execution_count": 28,
   "metadata": {},
   "outputs": [
    {
     "data": {
      "text/plain": [
       "Economy         8356\n",
       "Business        8330\n",
       "Economy Plus    1412\n",
       "Name: Class, dtype: int64"
      ]
     },
     "execution_count": 28,
     "metadata": {},
     "output_type": "execute_result"
    }
   ],
   "source": [
    "#Departure delay (>30mins) by class\n",
    "bus_deptdelay = Dept_delay['Class'].value_counts()\n",
    "bus_deptdelay"
   ]
  },
  {
   "cell_type": "code",
   "execution_count": 29,
   "metadata": {},
   "outputs": [
    {
     "data": {
      "text/plain": [
       "111237"
      ]
     },
     "execution_count": 29,
     "metadata": {},
     "output_type": "execute_result"
    }
   ],
   "source": [
    "#How many customers were delayed at departure for less than 30 minutes\n",
    "Deptt_delay = flight_df[flight_df['Departure Delay']<30]\n",
    "#Dept_delay\n",
    "total_depttdelay= Deptt_delay['Departure Delay'].count()\n",
    "total_depttdelay"
   ]
  },
  {
   "cell_type": "code",
   "execution_count": 30,
   "metadata": {},
   "outputs": [
    {
     "data": {
      "text/plain": [
       "73356"
      ]
     },
     "execution_count": 30,
     "metadata": {},
     "output_type": "execute_result"
    }
   ],
   "source": [
    "#How many customers were not delayed at departure at all\n",
    "Dept_nodelay = flight_df[flight_df['Departure Delay']==0]\n",
    "#Dept_delay\n",
    "nodelay_dept= Dept_nodelay['Departure Delay'].count()\n",
    "nodelay_dept"
   ]
  },
  {
   "cell_type": "code",
   "execution_count": 31,
   "metadata": {},
   "outputs": [
    {
     "data": {
      "text/plain": [
       "18375"
      ]
     },
     "execution_count": 31,
     "metadata": {},
     "output_type": "execute_result"
    }
   ],
   "source": [
    "#How many customers were delayed at arrival for more than 30 minutes\n",
    "arr_delay = flight_df[flight_df['Arrival Delay']>30]\n",
    "#Dept_delay\n",
    "total_arrdelay= arr_delay['Arrival Delay'].count()\n",
    "total_arrdelay"
   ]
  },
  {
   "cell_type": "code",
   "execution_count": 32,
   "metadata": {},
   "outputs": [
    {
     "data": {
      "text/plain": [
       "Economy         8516\n",
       "Business        8417\n",
       "Economy Plus    1442\n",
       "Name: Class, dtype: int64"
      ]
     },
     "execution_count": 32,
     "metadata": {},
     "output_type": "execute_result"
    }
   ],
   "source": [
    "#Arrival delay (>30mins) by class\n",
    "bus_arrdelay = arr_delay['Class'].value_counts()\n",
    "bus_arrdelay"
   ]
  },
  {
   "cell_type": "code",
   "execution_count": 33,
   "metadata": {},
   "outputs": [
    {
     "data": {
      "text/plain": [
       "110574"
      ]
     },
     "execution_count": 33,
     "metadata": {},
     "output_type": "execute_result"
    }
   ],
   "source": [
    "#How many customers were delayed at arrival for less than 30 minutes\n",
    "arri_delay = flight_df[flight_df['Arrival Delay']<30]\n",
    "#Dept_delay\n",
    "total_arridelay= arri_delay['Arrival Delay'].count()\n",
    "total_arridelay"
   ]
  },
  {
   "cell_type": "code",
   "execution_count": 34,
   "metadata": {},
   "outputs": [
    {
     "data": {
      "text/plain": [
       "72753"
      ]
     },
     "execution_count": 34,
     "metadata": {},
     "output_type": "execute_result"
    }
   ],
   "source": [
    "#How many customers were not delayed at arrival at all\n",
    "arriv_nodelay = flight_df[flight_df['Arrival Delay']==0]\n",
    "#Dept_delay\n",
    "nodelay_arr= arriv_nodelay['Arrival Delay'].count()\n",
    "nodelay_arr"
   ]
  },
  {
   "cell_type": "code",
   "execution_count": 35,
   "metadata": {
    "scrolled": true
   },
   "outputs": [
    {
     "data": {
      "text/html": [
       "<div>\n",
       "<style scoped>\n",
       "    .dataframe tbody tr th:only-of-type {\n",
       "        vertical-align: middle;\n",
       "    }\n",
       "\n",
       "    .dataframe tbody tr th {\n",
       "        vertical-align: top;\n",
       "    }\n",
       "\n",
       "    .dataframe thead th {\n",
       "        text-align: right;\n",
       "    }\n",
       "</style>\n",
       "<table border=\"1\" class=\"dataframe\">\n",
       "  <thead>\n",
       "    <tr style=\"text-align: right;\">\n",
       "      <th></th>\n",
       "      <th>Departure Delay</th>\n",
       "      <th>Class</th>\n",
       "    </tr>\n",
       "  </thead>\n",
       "  <tbody>\n",
       "    <tr>\n",
       "      <th>0</th>\n",
       "      <td>2</td>\n",
       "      <td>Business</td>\n",
       "    </tr>\n",
       "    <tr>\n",
       "      <th>1</th>\n",
       "      <td>26</td>\n",
       "      <td>Business</td>\n",
       "    </tr>\n",
       "    <tr>\n",
       "      <th>2</th>\n",
       "      <td>0</td>\n",
       "      <td>Business</td>\n",
       "    </tr>\n",
       "    <tr>\n",
       "      <th>3</th>\n",
       "      <td>0</td>\n",
       "      <td>Business</td>\n",
       "    </tr>\n",
       "    <tr>\n",
       "      <th>4</th>\n",
       "      <td>0</td>\n",
       "      <td>Business</td>\n",
       "    </tr>\n",
       "    <tr>\n",
       "      <th>...</th>\n",
       "      <td>...</td>\n",
       "      <td>...</td>\n",
       "    </tr>\n",
       "    <tr>\n",
       "      <th>129875</th>\n",
       "      <td>2</td>\n",
       "      <td>Economy Plus</td>\n",
       "    </tr>\n",
       "    <tr>\n",
       "      <th>129876</th>\n",
       "      <td>0</td>\n",
       "      <td>Economy Plus</td>\n",
       "    </tr>\n",
       "    <tr>\n",
       "      <th>129877</th>\n",
       "      <td>6</td>\n",
       "      <td>Economy Plus</td>\n",
       "    </tr>\n",
       "    <tr>\n",
       "      <th>129878</th>\n",
       "      <td>31</td>\n",
       "      <td>Economy Plus</td>\n",
       "    </tr>\n",
       "    <tr>\n",
       "      <th>129879</th>\n",
       "      <td>0</td>\n",
       "      <td>Economy Plus</td>\n",
       "    </tr>\n",
       "  </tbody>\n",
       "</table>\n",
       "<p>129880 rows × 2 columns</p>\n",
       "</div>"
      ],
      "text/plain": [
       "        Departure Delay         Class\n",
       "0                     2      Business\n",
       "1                    26      Business\n",
       "2                     0      Business\n",
       "3                     0      Business\n",
       "4                     0      Business\n",
       "...                 ...           ...\n",
       "129875                2  Economy Plus\n",
       "129876                0  Economy Plus\n",
       "129877                6  Economy Plus\n",
       "129878               31  Economy Plus\n",
       "129879                0  Economy Plus\n",
       "\n",
       "[129880 rows x 2 columns]"
      ]
     },
     "execution_count": 35,
     "metadata": {},
     "output_type": "execute_result"
    }
   ],
   "source": [
    "Delay = flight_df[['Departure Delay','Class']]\n",
    "Delay"
   ]
  },
  {
   "cell_type": "markdown",
   "metadata": {},
   "source": [
    "#### SATISFACTION BY CLASS"
   ]
  },
  {
   "cell_type": "code",
   "execution_count": 36,
   "metadata": {},
   "outputs": [
    {
     "data": {
      "text/html": [
       "<div>\n",
       "<style scoped>\n",
       "    .dataframe tbody tr th:only-of-type {\n",
       "        vertical-align: middle;\n",
       "    }\n",
       "\n",
       "    .dataframe tbody tr th {\n",
       "        vertical-align: top;\n",
       "    }\n",
       "\n",
       "    .dataframe thead th {\n",
       "        text-align: right;\n",
       "    }\n",
       "</style>\n",
       "<table border=\"1\" class=\"dataframe\">\n",
       "  <thead>\n",
       "    <tr style=\"text-align: right;\">\n",
       "      <th></th>\n",
       "      <th>Satisfaction</th>\n",
       "      <th>Class</th>\n",
       "    </tr>\n",
       "  </thead>\n",
       "  <tbody>\n",
       "    <tr>\n",
       "      <th>0</th>\n",
       "      <td>Neutral or Dissatisfied</td>\n",
       "      <td>Business</td>\n",
       "    </tr>\n",
       "    <tr>\n",
       "      <th>1</th>\n",
       "      <td>Satisfied</td>\n",
       "      <td>Business</td>\n",
       "    </tr>\n",
       "    <tr>\n",
       "      <th>2</th>\n",
       "      <td>Satisfied</td>\n",
       "      <td>Business</td>\n",
       "    </tr>\n",
       "    <tr>\n",
       "      <th>3</th>\n",
       "      <td>Satisfied</td>\n",
       "      <td>Business</td>\n",
       "    </tr>\n",
       "    <tr>\n",
       "      <th>4</th>\n",
       "      <td>Satisfied</td>\n",
       "      <td>Business</td>\n",
       "    </tr>\n",
       "    <tr>\n",
       "      <th>...</th>\n",
       "      <td>...</td>\n",
       "      <td>...</td>\n",
       "    </tr>\n",
       "    <tr>\n",
       "      <th>129875</th>\n",
       "      <td>Neutral or Dissatisfied</td>\n",
       "      <td>Economy Plus</td>\n",
       "    </tr>\n",
       "    <tr>\n",
       "      <th>129876</th>\n",
       "      <td>Neutral or Dissatisfied</td>\n",
       "      <td>Economy Plus</td>\n",
       "    </tr>\n",
       "    <tr>\n",
       "      <th>129877</th>\n",
       "      <td>Neutral or Dissatisfied</td>\n",
       "      <td>Economy Plus</td>\n",
       "    </tr>\n",
       "    <tr>\n",
       "      <th>129878</th>\n",
       "      <td>Satisfied</td>\n",
       "      <td>Economy Plus</td>\n",
       "    </tr>\n",
       "    <tr>\n",
       "      <th>129879</th>\n",
       "      <td>Neutral or Dissatisfied</td>\n",
       "      <td>Economy Plus</td>\n",
       "    </tr>\n",
       "  </tbody>\n",
       "</table>\n",
       "<p>129880 rows × 2 columns</p>\n",
       "</div>"
      ],
      "text/plain": [
       "                   Satisfaction         Class\n",
       "0       Neutral or Dissatisfied      Business\n",
       "1                     Satisfied      Business\n",
       "2                     Satisfied      Business\n",
       "3                     Satisfied      Business\n",
       "4                     Satisfied      Business\n",
       "...                         ...           ...\n",
       "129875  Neutral or Dissatisfied  Economy Plus\n",
       "129876  Neutral or Dissatisfied  Economy Plus\n",
       "129877  Neutral or Dissatisfied  Economy Plus\n",
       "129878                Satisfied  Economy Plus\n",
       "129879  Neutral or Dissatisfied  Economy Plus\n",
       "\n",
       "[129880 rows x 2 columns]"
      ]
     },
     "execution_count": 36,
     "metadata": {},
     "output_type": "execute_result"
    }
   ],
   "source": [
    "#Disaggregate overall satisfaction level by class\n",
    "overall_sat= flight_df[['Satisfaction','Class']]#.value_counts()\n",
    "overall_sat"
   ]
  },
  {
   "cell_type": "code",
   "execution_count": 37,
   "metadata": {},
   "outputs": [
    {
     "data": {
      "text/plain": [
       "Neutral or Dissatisfied    73452\n",
       "Satisfied                  56428\n",
       "Name: Satisfaction, dtype: int64"
      ]
     },
     "execution_count": 37,
     "metadata": {},
     "output_type": "execute_result"
    }
   ],
   "source": [
    "satisfaction= flight_df['Satisfaction'].value_counts()\n",
    "satisfaction"
   ]
  },
  {
   "cell_type": "code",
   "execution_count": 38,
   "metadata": {},
   "outputs": [
    {
     "data": {
      "text/plain": [
       "Business        43166\n",
       "Economy         10943\n",
       "Economy Plus     2319\n",
       "Name: Class, dtype: int64"
      ]
     },
     "execution_count": 38,
     "metadata": {},
     "output_type": "execute_result"
    }
   ],
   "source": [
    "#satisfaction by class\n",
    "sat_class= overall_sat[overall_sat['Satisfaction']=='Satisfied']['Class'].value_counts()\n",
    "sat_class"
   ]
  },
  {
   "cell_type": "code",
   "execution_count": 39,
   "metadata": {},
   "outputs": [
    {
     "data": {
      "text/plain": [
       "Economy         47366\n",
       "Business        18994\n",
       "Economy Plus     7092\n",
       "Name: Class, dtype: int64"
      ]
     },
     "execution_count": 39,
     "metadata": {},
     "output_type": "execute_result"
    }
   ],
   "source": [
    "dissat_class= overall_sat[overall_sat['Satisfaction']=='Neutral or Dissatisfied']['Class'].value_counts()\n",
    "dissat_class"
   ]
  },
  {
   "cell_type": "markdown",
   "metadata": {},
   "source": [
    "### SATISFACTION LEVEL BASED ON FLIGHT SERVICES"
   ]
  },
  {
   "cell_type": "code",
   "execution_count": 40,
   "metadata": {},
   "outputs": [
    {
     "data": {
      "text/plain": [
       "4    38703\n",
       "5    29492\n",
       "3    28542\n",
       "2    18351\n",
       "1    14787\n",
       "0        5\n",
       "Name: On-board Service, dtype: int64"
      ]
     },
     "execution_count": 40,
     "metadata": {},
     "output_type": "execute_result"
    }
   ],
   "source": [
    "#Disaggregate by customer satisfaction level at the on-board service (from 1 (lowest) to 5 (highest) - 0 means \"\"not applicable\"\"\")\n",
    "sat_onboarding= flight_df['On-board Service'].value_counts()\n",
    "sat_onboarding"
   ]
  },
  {
   "cell_type": "code",
   "execution_count": 41,
   "metadata": {},
   "outputs": [
    {
     "data": {
      "text/plain": [
       "4    39756\n",
       "5    33158\n",
       "3    23328\n",
       "2    18529\n",
       "1    15108\n",
       "0        1\n",
       "Name: Seat Comfort, dtype: int64"
      ]
     },
     "execution_count": 41,
     "metadata": {},
     "output_type": "execute_result"
    }
   ],
   "source": [
    "#Disaggregate by customer satisfaction level at the seat comfort (from 1 (lowest) to 5 (highest) - 0 means \"\"not applicable\"\"\"\n",
    "sat_seat= flight_df['Seat Comfort'].value_counts()\n",
    "sat_seat"
   ]
  },
  {
   "cell_type": "code",
   "execution_count": 42,
   "metadata": {},
   "outputs": [
    {
     "data": {
      "text/plain": [
       "4    35886\n",
       "5    30905\n",
       "3    25056\n",
       "2    24540\n",
       "1    12895\n",
       "0      598\n",
       "Name: Leg Room Service, dtype: int64"
      ]
     },
     "execution_count": 42,
     "metadata": {},
     "output_type": "execute_result"
    }
   ],
   "source": [
    "#Disaggregate by customer satisfaction level at the Leg room service (from 1 (lowest) to 5 (highest) - 0 means \"\"not applicable\"\"\")\n",
    "sat_legroom= flight_df['Leg Room Service'].value_counts()\n",
    "sat_legroom"
   ]
  },
  {
   "cell_type": "code",
   "execution_count": 43,
   "metadata": {},
   "outputs": [
    {
     "data": {
      "text/plain": [
       "4    33969\n",
       "3    30639\n",
       "5    28416\n",
       "2    20113\n",
       "1    16729\n",
       "0       14\n",
       "Name: Cleanliness, dtype: int64"
      ]
     },
     "execution_count": 43,
     "metadata": {},
     "output_type": "execute_result"
    }
   ],
   "source": [
    "#Disaggregate by customer satisfaction level at the Cleanliness (from 1 (lowest) to 5 (highest) - 0 means \"\"not applicable\"\"\")\n",
    "sat_clean= flight_df['Cleanliness'].value_counts()\n",
    "sat_clean"
   ]
  },
  {
   "cell_type": "code",
   "execution_count": 44,
   "metadata": {},
   "outputs": [
    {
     "data": {
      "text/plain": [
       "4    30563\n",
       "5    27957\n",
       "3    27794\n",
       "2    27383\n",
       "1    16051\n",
       "0      132\n",
       "Name: Food and Drink, dtype: int64"
      ]
     },
     "execution_count": 44,
     "metadata": {},
     "output_type": "execute_result"
    }
   ],
   "source": [
    "#Disaggregate by customer satisfaction level at the food and drink (from 1 (lowest) to 5 (highest) - 0 means \"\"not applicable\"\"\")\n",
    "sat_food= flight_df['Food and Drink'].value_counts()\n",
    "sat_food"
   ]
  },
  {
   "cell_type": "code",
   "execution_count": 45,
   "metadata": {},
   "outputs": [
    {
     "data": {
      "text/plain": [
       "4    47323\n",
       "5    34066\n",
       "3    25316\n",
       "2    14308\n",
       "1     8862\n",
       "0        5\n",
       "Name: In-flight Service, dtype: int64"
      ]
     },
     "execution_count": 45,
     "metadata": {},
     "output_type": "execute_result"
    }
   ],
   "source": [
    "#Disaggregate by customer satisfaction level at the in-flight service (from 1 (lowest) to 5 (highest) - 0 means \"\"not applicable\"\"\")\n",
    "sat_inflight= flight_df['In-flight Service'].value_counts()\n",
    "sat_inflight"
   ]
  },
  {
   "cell_type": "code",
   "execution_count": 46,
   "metadata": {},
   "outputs": [
    {
     "data": {
      "text/plain": [
       "2    32320\n",
       "3    32185\n",
       "4    24775\n",
       "1    22328\n",
       "5    14356\n",
       "0     3916\n",
       "Name: In-flight Wifi Service, dtype: int64"
      ]
     },
     "execution_count": 46,
     "metadata": {},
     "output_type": "execute_result"
    }
   ],
   "source": [
    "#Disaggregate by customer satisfaction level at the in-flight wifi service (from 1 (lowest) to 5 (highest) - 0 means \"\"not applicable\"\"\"\n",
    "sat_wifi= flight_df['In-flight Wifi Service'].value_counts()\n",
    "sat_wifi"
   ]
  },
  {
   "cell_type": "code",
   "execution_count": 47,
   "metadata": {},
   "outputs": [
    {
     "data": {
      "text/plain": [
       "4    36791\n",
       "5    31544\n",
       "3    23884\n",
       "2    21968\n",
       "1    15675\n",
       "0       18\n",
       "Name: In-flight Entertainment, dtype: int64"
      ]
     },
     "execution_count": 47,
     "metadata": {},
     "output_type": "execute_result"
    }
   ],
   "source": [
    "#Disaggregate by customer satisfaction level at the in-flight entertainment (from 1 (lowest) to 5 (highest) - 0 means \"\"not applicable\"\"\")\n",
    "sat_entertain= flight_df['In-flight Entertainment'].value_counts()\n",
    "sat_entertain"
   ]
  },
  {
   "cell_type": "code",
   "execution_count": 48,
   "metadata": {},
   "outputs": [
    {
     "data": {
      "text/plain": [
       "4    46761\n",
       "5    33878\n",
       "3    25851\n",
       "2    14362\n",
       "1     9028\n",
       "Name: Baggage Handling, dtype: int64"
      ]
     },
     "execution_count": 48,
     "metadata": {},
     "output_type": "execute_result"
    }
   ],
   "source": [
    "#Disaggregate by customer satisfaction level at the Baggage handling (from 1 (lowest) to 5 (highest) - 0 means \"\"not applicable\"\"\")\n",
    "sat_baggage= flight_df['Baggage Handling'].value_counts()\n",
    "sat_baggage"
   ]
  },
  {
   "cell_type": "code",
   "execution_count": 49,
   "metadata": {},
   "outputs": [
    {
     "data": {
      "text/plain": [
       "4    31880\n",
       "5    27998\n",
       "3    22378\n",
       "2    21534\n",
       "1    19409\n",
       "0     6681\n",
       "Name: Departure and Arrival Time Convenience, dtype: int64"
      ]
     },
     "execution_count": 49,
     "metadata": {},
     "output_type": "execute_result"
    }
   ],
   "source": [
    "#Disaggregate by customer satisfaction level at the departure and arrival time (from 1 (lowest) to 5 (highest) - 0 means \"\"not applicable)\n",
    "sat_deptarr= flight_df['Departure and Arrival Time Convenience'].value_counts()\n",
    "sat_deptarr"
   ]
  },
  {
   "cell_type": "code",
   "execution_count": 50,
   "metadata": {},
   "outputs": [
    {
     "data": {
      "text/plain": [
       "3    30393\n",
       "2    30051\n",
       "4    24444\n",
       "1    21886\n",
       "5    17424\n",
       "0     5682\n",
       "Name: Ease of Online Booking, dtype: int64"
      ]
     },
     "execution_count": 50,
     "metadata": {},
     "output_type": "execute_result"
    }
   ],
   "source": [
    "#Disaggregate by customer satisfaction level at the online booking (from 1 (lowest) to 5 (highest) - 0 means \"\"not applicable)\n",
    "sat_booking= flight_df['Ease of Online Booking'].value_counts()\n",
    "sat_booking"
   ]
  },
  {
   "cell_type": "code",
   "execution_count": 51,
   "metadata": {},
   "outputs": [
    {
     "data": {
      "text/plain": [
       "4    36333\n",
       "3    35453\n",
       "5    25883\n",
       "1    16108\n",
       "2    16102\n",
       "0        1\n",
       "Name: Check-in Service, dtype: int64"
      ]
     },
     "execution_count": 51,
     "metadata": {},
     "output_type": "execute_result"
    }
   ],
   "source": [
    "#Disaggregate by customer satisfaction level at the check-in service (from 1 (lowest) to 5 (highest) - 0 means \"\"not applicable)\n",
    "sat_checkin= flight_df['Check-in Service'].value_counts()\n",
    "sat_checkin"
   ]
  },
  {
   "cell_type": "code",
   "execution_count": 52,
   "metadata": {},
   "outputs": [
    {
     "data": {
      "text/plain": [
       "4    38468\n",
       "3    27117\n",
       "5    26020\n",
       "2    21934\n",
       "1    13261\n",
       "0     3080\n",
       "Name: Online Boarding, dtype: int64"
      ]
     },
     "execution_count": 52,
     "metadata": {},
     "output_type": "execute_result"
    }
   ],
   "source": [
    "#Disaggregate by customer satisfaction level at the online boarding (from 1 (lowest) to 5 (highest) - 0 means \"\"not applicable\"\"\")\n",
    "sat_boarding= flight_df['Online Boarding'].value_counts()\n",
    "sat_boarding"
   ]
  },
  {
   "cell_type": "code",
   "execution_count": 53,
   "metadata": {},
   "outputs": [
    {
     "data": {
      "text/plain": [
       "3    35717\n",
       "4    30466\n",
       "2    24296\n",
       "1    21991\n",
       "5    17409\n",
       "0        1\n",
       "Name: Gate Location, dtype: int64"
      ]
     },
     "execution_count": 53,
     "metadata": {},
     "output_type": "execute_result"
    }
   ],
   "source": [
    "#Disaggregate by customer satisfaction level at the Gate location (from 1 (lowest) to 5 (highest) - 0 means \"\"not applicable\"\"\")\n",
    "sat_gate= flight_df['Gate Location'].value_counts()\n",
    "sat_gate"
   ]
  },
  {
   "cell_type": "markdown",
   "metadata": {},
   "source": [
    "# Exploratory Analysis and Visualization\n",
    "\n",
    "We will be exploring some relationships in the flight dataset as well as visualizing some by disaggregation.\n",
    "\n"
   ]
  },
  {
   "cell_type": "markdown",
   "metadata": {},
   "source": [
    "##### FLIGHT INFO DISAGGREGATED BY CLASS, CUSTOMER TYPE, PURPOSE OF TRAVEL"
   ]
  },
  {
   "cell_type": "code",
   "execution_count": 55,
   "metadata": {
    "scrolled": false
   },
   "outputs": [
    {
     "data": {
      "image/png": "[encoded data removed]",
      "text/plain": [
       "<Figure size 1584x360 with 3 Axes>"
      ]
     },
     "metadata": {
      "needs_background": "light"
     },
     "output_type": "display_data"
    }
   ],
   "source": [
    "fig, axes = plt.subplots(1,3, figsize=(22, 5))\n",
    "sns.set_palette(sns.color_palette('Set3'))\n",
    "\n",
    "axes[0].set_title(\"Flight by Purpose\")#, size=14, x = 0.52, y =0.95)\n",
    "sns.barplot(purpose_type.index,purpose_type, ax=axes[0]);\n",
    "\n",
    "axes[1].set_title(\"Flight by Class\")#, size=12, x = 0.52, y =0.95)\n",
    "sns.barplot(class_type.index,class_type, ax=axes[1]);\n",
    "\n",
    "axes[2].set_title(\"Flight by Customer Type\")#, size=14)#, x = 0.52, y =0.95)\n",
    "sns.barplot(cust_type.index, cust_type, ax=axes[2]);\n",
    "\n"
   ]
  },
  {
   "cell_type": "markdown",
   "metadata": {},
   "source": [
    "##### EXPLORING SATISFACTION BY CUSTOMER TYPE AND CLASS"
   ]
  },
  {
   "cell_type": "code",
   "execution_count": 56,
   "metadata": {
    "scrolled": false
   },
   "outputs": [
    {
     "data": {
      "image/png": "[encoded data removed]",
      "text/plain": [
       "<Figure size 1584x1008 with 4 Axes>"
      ]
     },
     "metadata": {
      "needs_background": "light"
     },
     "output_type": "display_data"
    }
   ],
   "source": [
    "fig, axes = plt.subplots(2,2, figsize=(22, 14))\n",
    "sns.set_palette(sns.color_palette('pastel'))\n",
    "\n",
    "axes[0,0].set_title(\"Satisfaction Disaggregation\")#, size=14, x = 0.52, y =0.95)\n",
    "sns.barplot(satisfaction, satisfaction.index, ax=axes[0,0]);\n",
    "\n",
    "axes[0,1].set_title(\"Satisfied by Customer Type\")#, size=14, x = 0.52, y =0.95)\n",
    "sns.barplot(graph, graph.index, ax=axes[0,1]);\n",
    "\n",
    "axes[1,0].set_title(\"Dissatisfied by Customer Type\")#, size=14, x = 0.52, y =0.95)\n",
    "sns.barplot(graph2, graph2.index, ax=axes[1,0]);\n",
    "\n",
    "axes[1,1].set_title(\"%Satisfied Customer\")#, size=14, x = 0.52, y =0.95)\n",
    "axes[1,1].pie(graph1.Satisfaction, labels = graph1.index, autopct = '%1.1f%%', startangle = 45);"
   ]
  },
  {
   "cell_type": "code",
   "execution_count": 57,
   "metadata": {},
   "outputs": [
    {
     "data": {
      "image/png": "[encoded data removed]",
      "text/plain": [
       "<Figure size 1584x360 with 3 Axes>"
      ]
     },
     "metadata": {
      "needs_background": "light"
     },
     "output_type": "display_data"
    }
   ],
   "source": [
    "fig, axes = plt.subplots(1,3, figsize=(22, 5))\n",
    "sns.set_palette(sns.color_palette('pastel'))\n",
    "\n",
    "axes[0].set_title(\"%Dissatisfied Customer\")#, size=14, x = 0.52, y =0.95)\n",
    "axes[0].pie(graph3.Satisfaction, labels = graph3.index, autopct = '%1.1f%%', startangle = 45);\n",
    "\n",
    "axes[1].set_title(\"Satisfaction by Class\")#, size=14)#, x = 0.52, y =0.95)\n",
    "sns.barplot(sat_class.index, sat_class, ax=axes[1]);\n",
    "\n",
    "axes[2].set_title(\"Dissatisfaction by Class\")#, size=14)#, x = 0.52, y =0.95)\n",
    "sns.barplot(dissat_class.index, dissat_class, ax=axes[2]);"
   ]
  },
  {
   "cell_type": "markdown",
   "metadata": {},
   "source": [
    "### SATISFACTION LEVEL BASED ON FLIGHT SERVICES"
   ]
  },
  {
   "cell_type": "code",
   "execution_count": 58,
   "metadata": {},
   "outputs": [
    {
     "data": {
      "image/png": "[encoded data removed]",
      "text/plain": [
       "<Figure size 1584x576 with 4 Axes>"
      ]
     },
     "metadata": {
      "needs_background": "light"
     },
     "output_type": "display_data"
    }
   ],
   "source": [
    "fig, axes = plt.subplots(2,2, figsize=(22, 8))\n",
    "sns.set_palette(sns.color_palette('Set3'))\n",
    "\n",
    "axes[0,0].set_title(\"On-board service\")#, size=14, x = 0.52, y =0.95)\n",
    "sns.barplot(sat_onboarding.index,sat_onboarding, ax=axes[0,0]);\n",
    "\n",
    "axes[0,1].set_title(\"Seat Comfort\")#, size=12, x = 0.52, y =0.95)\n",
    "sns.barplot(sat_seat.index,sat_seat, ax=axes[0,1]);\n",
    "\n",
    "axes[1,0].set_title(\"Cleanliness\")#, size=14)#, x = 0.52, y =0.95)\n",
    "sns.barplot(sat_clean.index, sat_clean, ax=axes[1,0]);\n",
    "\n",
    "axes[1,1].set_title(\"Food and Drinks\")#, size=14)#, x = 0.52, y =0.95)\n",
    "sns.barplot(sat_food.index, sat_food, ax=axes[1,1]);"
   ]
  },
  {
   "cell_type": "code",
   "execution_count": 59,
   "metadata": {
    "scrolled": false
   },
   "outputs": [
    {
     "data": {
      "image/png": "[encoded data removed]",
      "text/plain": [
       "<Figure size 1584x576 with 4 Axes>"
      ]
     },
     "metadata": {
      "needs_background": "light"
     },
     "output_type": "display_data"
    }
   ],
   "source": [
    "fig, axes = plt.subplots(2,2, figsize=(22, 8))\n",
    "sns.set_palette(sns.color_palette('Set3'))\n",
    "\n",
    "axes[0,0].set_title(\"Ease of Online Booking\")#, size=14)#, x = 0.52, y =0.95)\n",
    "sns.barplot(sat_booking.index, sat_booking, ax=axes[0,0]);\n",
    "\n",
    "axes[0,1].set_title(\"Check-in Service\")#, size=14)#, x = 0.52, y =0.95)\n",
    "sns.barplot(sat_checkin.index, sat_checkin, ax=axes[0,1]);\n",
    "\n",
    "axes[1,0].set_title(\"Online Boarding\")#, size=14)#, x = 0.52, y =0.95)\n",
    "sns.barplot(sat_boarding.index, sat_boarding, ax=axes[1,0]);\n",
    "\n",
    "axes[1,1].set_title(\"Gate Location\")#, size=14)#, x = 0.52, y =0.95)\n",
    "sns.barplot(sat_gate.index, sat_gate, ax=axes[1,1]);"
   ]
  },
  {
   "cell_type": "code",
   "execution_count": 60,
   "metadata": {},
   "outputs": [
    {
     "data": {
      "image/png": "[encoded data removed]",
      "text/plain": [
       "<Figure size 1584x576 with 4 Axes>"
      ]
     },
     "metadata": {
      "needs_background": "light"
     },
     "output_type": "display_data"
    }
   ],
   "source": [
    "fig, axes = plt.subplots(2,2, figsize=(22, 8))\n",
    "sns.set_palette(sns.color_palette('pastel'))\n",
    "\n",
    "axes[0,0].set_title(\"Inflight service\")#, size=14)#, x = 0.52, y =0.95)\n",
    "sns.barplot(sat_inflight.index, sat_inflight, ax=axes[0,0]);\n",
    "\n",
    "axes[0,1].set_title(\"Inflight wifi\")#, size=14)#, x = 0.52, y =0.95)\n",
    "sns.barplot(sat_wifi.index, sat_wifi, ax=axes[0,1]);\n",
    "\n",
    "axes[1,0].set_title(\"Inflight Entertainment\")#, size=14)#, x = 0.52, y =0.95)\n",
    "sns.barplot(sat_entertain.index, sat_entertain, ax=axes[1,0]);\n",
    "\n",
    "axes[1,1].set_title(\"Baggage Handling\")#, size=14)#, x = 0.52, y =0.95)\n",
    "sns.barplot(sat_baggage.index, sat_baggage, ax=axes[1,1]);\n",
    "\n"
   ]
  },
  {
   "cell_type": "code",
   "execution_count": 61,
   "metadata": {},
   "outputs": [
    {
     "data": {
      "image/png": "[encoded data removed]",
      "text/plain": [
       "<Figure size 1584x360 with 2 Axes>"
      ]
     },
     "metadata": {
      "needs_background": "light"
     },
     "output_type": "display_data"
    }
   ],
   "source": [
    "fig, axes = plt.subplots(1,2, figsize=(22, 5))\n",
    "sns.set_palette(sns.color_palette('Set2'))\n",
    "\n",
    "axes[0].set_title(\"Leg Room Service\")#, size=14)#, x = 0.52, y =0.95)\n",
    "sns.barplot(sat_legroom.index, sat_legroom, ax=axes[0]);\n",
    "\n",
    "axes[1].set_title(\"Departure and Arrival Time Convenience\")#, size=14)#, x = 0.52, y =0.95)\n",
    "sns.barplot(sat_deptarr.index, sat_deptarr, ax=axes[1]);\n"
   ]
  },
  {
   "cell_type": "markdown",
   "metadata": {},
   "source": [
    "#### DELAY AT DEPARTURE AND ARRIVAL"
   ]
  },
  {
   "cell_type": "code",
   "execution_count": 62,
   "metadata": {
    "scrolled": false
   },
   "outputs": [
    {
     "data": {
      "image/png": "[encoded data removed]",
      "text/plain": [
       "<Figure size 1584x576 with 2 Axes>"
      ]
     },
     "metadata": {
      "needs_background": "light"
     },
     "output_type": "display_data"
    }
   ],
   "source": [
    "fig, axes = plt.subplots(1,2, figsize=(22, 8))\n",
    "sns.set_palette(sns.color_palette('Set3'))\n",
    "\n",
    "axes[0].set_title(\"Delayed at Departure\")#, size=14)#, x = 0.52, y =0.95)\n",
    "sns.barplot(bus_deptdelay.index, bus_deptdelay, ax=axes[0]);\n",
    "\n",
    "axes[1].set_title(\"Delayed at Arrival\")#, size=14)#, x = 0.52, y =0.95)\n",
    "sns.barplot(bus_arrdelay.index, bus_arrdelay, ax=axes[1]);"
   ]
  },
  {
   "cell_type": "markdown",
   "metadata": {},
   "source": [
    "## Asking and Answering Questions about the dataset\n"
   ]
  },
  {
   "cell_type": "markdown",
   "metadata": {},
   "source": [
    "#### Q1: Absolute value of customers delayed at departure"
   ]
  },
  {
   "cell_type": "code",
   "execution_count": 63,
   "metadata": {
    "scrolled": true
   },
   "outputs": [
    {
     "data": {
      "text/plain": [
       "18098"
      ]
     },
     "execution_count": 63,
     "metadata": {},
     "output_type": "execute_result"
    }
   ],
   "source": [
    "#How many customers were delayed at departure for more than 30 minutes\n",
    "Dept_delay = flight_df[flight_df['Departure Delay']>30]\n",
    "#Dept_delay>30\n",
    "total_deptdelay= Dept_delay['Departure Delay'].count()\n",
    "total_deptdelay"
   ]
  },
  {
   "cell_type": "code",
   "execution_count": 64,
   "metadata": {},
   "outputs": [
    {
     "data": {
      "text/plain": [
       "111237"
      ]
     },
     "execution_count": 64,
     "metadata": {},
     "output_type": "execute_result"
    }
   ],
   "source": [
    "#How many customers were delayed at departure for less than 30 minutes\n",
    "Deptt_delay = flight_df[flight_df['Departure Delay']<30]\n",
    "#Dept_delay\n",
    "total_depttdelay= Deptt_delay['Departure Delay'].count()\n",
    "total_depttdelay"
   ]
  },
  {
   "cell_type": "code",
   "execution_count": 65,
   "metadata": {},
   "outputs": [
    {
     "data": {
      "text/plain": [
       "73356"
      ]
     },
     "execution_count": 65,
     "metadata": {},
     "output_type": "execute_result"
    }
   ],
   "source": [
    "#How many customers were not delayed at departure at all\n",
    "Dept_nodelay = flight_df[flight_df['Departure Delay']==0]\n",
    "#Dept_delay\n",
    "nodelay_dept= Dept_nodelay['Departure Delay'].count()\n",
    "nodelay_dept"
   ]
  },
  {
   "cell_type": "markdown",
   "metadata": {},
   "source": [
    "#### Q2: Absolute value of customers delayed at arrival"
   ]
  },
  {
   "cell_type": "code",
   "execution_count": 66,
   "metadata": {},
   "outputs": [
    {
     "data": {
      "text/plain": [
       "18375"
      ]
     },
     "execution_count": 66,
     "metadata": {},
     "output_type": "execute_result"
    }
   ],
   "source": [
    "#How many customers were delayed at arrival for more than 30 minutes\n",
    "arr_delay = flight_df[flight_df['Arrival Delay']>30]\n",
    "#Dept_delay\n",
    "total_arrdelay= arr_delay['Arrival Delay'].count()\n",
    "total_arrdelay"
   ]
  },
  {
   "cell_type": "code",
   "execution_count": 67,
   "metadata": {},
   "outputs": [
    {
     "data": {
      "text/plain": [
       "110574"
      ]
     },
     "execution_count": 67,
     "metadata": {},
     "output_type": "execute_result"
    }
   ],
   "source": [
    "#How many customers were delayed at arrival for less than 30 minutes\n",
    "arri_delay = flight_df[flight_df['Arrival Delay']<30]\n",
    "#Dept_delay\n",
    "total_arridelay= arri_delay['Arrival Delay'].count()\n",
    "total_arridelay"
   ]
  },
  {
   "cell_type": "code",
   "execution_count": 68,
   "metadata": {},
   "outputs": [
    {
     "data": {
      "text/plain": [
       "72753"
      ]
     },
     "execution_count": 68,
     "metadata": {},
     "output_type": "execute_result"
    }
   ],
   "source": [
    "#How many customers were not delayed at arrival at all\n",
    "arriv_nodelay = flight_df[flight_df['Arrival Delay']==0]\n",
    "#Dept_delay\n",
    "nodelay_arr= arriv_nodelay['Arrival Delay'].count()\n",
    "nodelay_arr"
   ]
  },
  {
   "cell_type": "markdown",
   "metadata": {},
   "source": [
    "#### Q3: Satisfaction by gender"
   ]
  },
  {
   "cell_type": "code",
   "execution_count": 69,
   "metadata": {},
   "outputs": [
    {
     "data": {
      "text/plain": [
       "Female    28269\n",
       "Male      28159\n",
       "Name: Gender, dtype: int64"
      ]
     },
     "execution_count": 69,
     "metadata": {},
     "output_type": "execute_result"
    }
   ],
   "source": [
    "#Satisfaction by gender\n",
    "gender_sat= satisfied['Gender'].value_counts()\n",
    "gender_sat"
   ]
  },
  {
   "cell_type": "code",
   "execution_count": 70,
   "metadata": {},
   "outputs": [
    {
     "data": {
      "text/plain": [
       "Female    37630\n",
       "Male      35822\n",
       "Name: Gender, dtype: int64"
      ]
     },
     "execution_count": 70,
     "metadata": {},
     "output_type": "execute_result"
    }
   ],
   "source": [
    "#Satisfaction by gender\n",
    "gender_dissat= dissatisfied['Gender'].value_counts()\n",
    "gender_dissat"
   ]
  },
  {
   "cell_type": "markdown",
   "metadata": {},
   "source": [
    "#### Q4: Satisfaction by age group"
   ]
  },
  {
   "cell_type": "code",
   "execution_count": 71,
   "metadata": {},
   "outputs": [],
   "source": [
    "def assigning_age_group(df):\n",
    "    flight_df['Age_group'] =pd.cut(x=flight_df['Age'], bins=[0,10,18,30,45,60,100], labels=[\"<10yrs\",\"10-18yrs\",\"18-30yrs\",\"30-45yrs\",\"45-60yrs\",\"Older\"])\n",
    "    return df\n",
    "\n",
    "df = assigning_age_group(flight_df)\n"
   ]
  },
  {
   "cell_type": "code",
   "execution_count": 72,
   "metadata": {},
   "outputs": [
    {
     "data": {
      "text/plain": [
       "45-60yrs    21515\n",
       "30-45yrs    20246\n",
       "18-30yrs    10624\n",
       "Older        2093\n",
       "10-18yrs     1568\n",
       "<10yrs        382\n",
       "Name: Age_group, dtype: int64"
      ]
     },
     "execution_count": 72,
     "metadata": {},
     "output_type": "execute_result"
    }
   ],
   "source": [
    "sat_age= df[df['Satisfaction']=='Satisfied']['Age_group'].value_counts()\n",
    "sat_age"
   ]
  },
  {
   "cell_type": "code",
   "execution_count": 73,
   "metadata": {},
   "outputs": [
    {
     "data": {
      "text/plain": [
       "30-45yrs    21236\n",
       "18-30yrs    19186\n",
       "45-60yrs    15949\n",
       "Older        7961\n",
       "10-18yrs     6339\n",
       "<10yrs       2781\n",
       "Name: Age_group, dtype: int64"
      ]
     },
     "execution_count": 73,
     "metadata": {},
     "output_type": "execute_result"
    }
   ],
   "source": [
    "sat_age= df[df['Satisfaction']=='Neutral or Dissatisfied']['Age_group'].value_counts()\n",
    "sat_age"
   ]
  },
  {
   "cell_type": "markdown",
   "metadata": {},
   "source": [
    "## Inferences and Conclusion\n",
    "\n",
    "A summary of all the inferences drawn from the analysis, and conclusions drawn by answering various questions.\n",
    "\n",
    "\n",
    " We have more customers on Business purpose (69%) than personal purpose (31%)\n",
    " We have more customers flying Business class(48%) and Economy class (45%) while very little in Economy Plus (7%)\n",
    " We have more returning customers (82%) than first time customers (18%)\n",
    "\n",
    " We have more female customers (51%) than male customers (49%)\n",
    " Most have more dissatisfaction with female customers (51%) than male customers\n",
    " Out of those satisfied, we have 90% of them from returning customers\n",
    " Out of those dissatisfied (57%), we have 75% of them from returning customers\n",
    "\n",
    " Customers within the age group 45-60years old (38%) are more satisfied than other age group. 36% for 30-35yrs, 19% for \n",
    " 18-  30yrs,4% for ages above 60years and the remaining % shared amongst 10-18yrs and <10yrs\n",
    "\n",
    " Customers within the age group 30-45years old (29%) are more satisfied than other age group. 26% for 18-30yrs,\n",
    " 22%% for 45-60yrs, 10% for ages above 60years and the remaining % shared amongst 10-18yrs and <10yrs\n",
    "\n",
    "\n",
    " Customers that flew Business had more satisfaction (76%) than those that flew other class\n",
    " For dissatisfaction, those that flew Economy (71%) were most dissatisfied\n",
    "\n",
    " For delayed customers at arrival, we have 14% (18375) customers delayed for more than 30 minutes, \n",
    " 85% (110574) for less than 30 minutes and 56% (72753) had no delay\n",
    "\n",
    " For delayed customers at departure, we have 14% (18098) customers delayed for more than 30 minutes, \n",
    " 86% (111237) for less than 30 minutes, and 56% (73356) had no delay\n",
    "\n",
    " Satisfaction with flight services;\n",
    "     Most customers were satisfied(4) with the onboard service, seat comfort, cleanliness,checkin service online boarding,  inflight service food and drinks, baggage handling, inflight entertainment, leg room service and Departure and arrival time convenience.\n",
    "\n",
    " Customers were slightly satisfied (3) with the gate location, ease of online booking, inflight wifi"
   ]
  },
  {
   "cell_type": "code",
   "execution_count": null,
   "metadata": {},
   "outputs": [],
   "source": []
  },
  {
   "cell_type": "code",
   "execution_count": null,
   "metadata": {},
   "outputs": [],
   "source": []
  },
  {
   "cell_type": "code",
   "execution_count": null,
   "metadata": {},
   "outputs": [],
   "source": []
  }
 ],
 "metadata": {
  "kernelspec": {
   "display_name": "Python 3 (ipykernel)",
   "language": "python",
   "name": "python3"
  },
  "language_info": {
   "codemirror_mode": {
    "name": "ipython",
    "version": 3
   },
   "file_extension": ".py",
   "mimetype": "text/x-python",
   "name": "python",
   "nbconvert_exporter": "python",
   "pygments_lexer": "ipython3",
   "version": "3.9.7"
  }
 },
 "nbformat": 4,
 "nbformat_minor": 4
}
